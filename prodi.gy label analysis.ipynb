{
 "cells": [
  {
   "cell_type": "markdown",
   "id": "84f194eb",
   "metadata": {},
   "source": [
    "connecting to prodi.gy database"
   ]
  },
  {
   "cell_type": "code",
   "execution_count": 1,
   "id": "9383a4fc",
   "metadata": {},
   "outputs": [
    {
     "name": "stderr",
     "output_type": "stream",
     "text": [
      "/home/gebruiker/anaconda3/envs/prodi-env/lib/python3.9/site-packages/tqdm/auto.py:22: TqdmWarning: IProgress not found. Please update jupyter and ipywidgets. See https://ipywidgets.readthedocs.io/en/stable/user_install.html\n",
      "  from .autonotebook import tqdm as notebook_tqdm\n"
     ]
    }
   ],
   "source": [
    "from prodigy.components.db import connect\n",
    "db = connect(\"sqlite\", {\"name\": \"prodigy.db\"})"
   ]
  },
  {
   "cell_type": "markdown",
   "id": "a6c5543b",
   "metadata": {},
   "source": [
    "loading dataset"
   ]
  },
  {
   "cell_type": "code",
   "execution_count": 3,
   "id": "01436e77",
   "metadata": {},
   "outputs": [],
   "source": [
    "examples = db.get_dataset(\"new_dataset\")"
   ]
  },
  {
   "cell_type": "markdown",
   "id": "869c59ae",
   "metadata": {},
   "source": [
    "Get labels from the dataset"
   ]
  },
  {
   "cell_type": "code",
   "execution_count": 4,
   "id": "fc267128",
   "metadata": {},
   "outputs": [
    {
     "name": "stdout",
     "output_type": "stream",
     "text": [
      "The unique elements of the input list using set():\n",
      "\n",
      "PERSON\n",
      "POSITION\n",
      "YEAR\n",
      "License\n",
      "GPE\n",
      "ORG\n",
      "MONEY\n",
      "EVENT\n",
      "KEYWORD\n",
      "DISCIPLINE\n",
      "RECOGNITION\n",
      "WEBSITE\n",
      "Repository\n",
      "OUTPUT\n",
      "REF\n",
      "ACTIVITY\n",
      "PRODUCT\n",
      "METASTD\n",
      "JOURNAL\n"
     ]
    }
   ],
   "source": [
    "label_names=[]\n",
    "for eg in examples:\n",
    "    if eg[\"answer\"] == \"accept\":  # you probably want to exclude ignored/rejected answers?\n",
    "        for span in eg.get(\"spans\", []):\n",
    "            try:\n",
    "                label = span[\"label\"]\n",
    "                label_names.append(label)\n",
    "            except:\n",
    "                continue\n",
    "\n",
    "set_res = set(label_names) \n",
    "print(\"The unique elements of the input list using set():\\n\") \n",
    "list_res = (list(set_res))\n",
    " \n",
    "for item in list_res: \n",
    "    print(item) "
   ]
  },
  {
   "cell_type": "markdown",
   "id": "834fe3a5",
   "metadata": {},
   "source": [
    "Export Annotated Data from dataset to get list of words per label"
   ]
  },
  {
   "cell_type": "code",
   "execution_count": 5,
   "id": "0573a56e",
   "metadata": {},
   "outputs": [],
   "source": [
    "from collections import defaultdict\n",
    "label_stats=defaultdict(list)"
   ]
  },
  {
   "cell_type": "code",
   "execution_count": 10,
   "id": "7cd4fb7b",
   "metadata": {},
   "outputs": [
    {
     "name": "stdout",
     "output_type": "stream",
     "text": [
      "['Drost & Mantovani et al', 'Melo & Drost et al', 'Elkon, Drost & van Haaften et al', 'Drost et al.', 'Fumagalli & Drost et al', 'Drost & Van Boxtel et al', 'Drost & Karthaus et al', 'Drost & Clevers', 'Masters of Chemistry (First Class Honours', 'University Teaching Qualification', 'cum laude', 'BSc Chemistry, Summa Cum Laude', 'Cum Laude', 'Cum Laude', 'University Teaching Qualification']\n"
     ]
    }
   ],
   "source": [
    "for eg in examples:\n",
    "    if eg[\"answer\"] == \"accept\":  # you probably want to exclude ignored/rejected answers?\n",
    "        for span in eg.get(\"spans\", []):\n",
    "            try:\n",
    "                word = eg[\"text\"][span[\"start\"]:span[\"end\"]]  # slice of the text\n",
    "                label = span[\"label\"]\n",
    "                if label == \"OUTPUT\":\n",
    "                    label_stats[label].append(word)\n",
    "            except:\n",
    "                continue\n",
    "\n",
    "print(label_stats[\"OUTPUT\"])"
   ]
  }
 ],
 "metadata": {
  "kernelspec": {
   "display_name": "prodi-env",
   "language": "python",
   "name": "prodi-env"
  },
  "language_info": {
   "codemirror_mode": {
    "name": "ipython",
    "version": 3
   },
   "file_extension": ".py",
   "mimetype": "text/x-python",
   "name": "python",
   "nbconvert_exporter": "python",
   "pygments_lexer": "ipython3",
   "version": "3.9.12"
  }
 },
 "nbformat": 4,
 "nbformat_minor": 5
}
